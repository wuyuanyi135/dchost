{
 "cells": [
  {
   "cell_type": "code",
   "execution_count": 1,
   "metadata": {
    "collapsed": true
   },
   "outputs": [],
   "source": [
    "import RPi.GPIO as GPIO\n",
    "import spidev\n",
    "import wiringpi\n",
    "import requests as req"
   ]
  },
  {
   "cell_type": "code",
   "execution_count": 21,
   "metadata": {
    "collapsed": false
   },
   "outputs": [],
   "source": [
    "def kbk(chn):\n",
    "    print \"KBK:\"\n",
    "    print radio.read_data()\n",
    "    radio.flush_rx()\n",
    "    radio.clear_status() \n",
    "    \n",
    "class nrf24l01:\n",
    "    def __init__(self):\n",
    "        self.spi = spidev.SpiDev()\n",
    "        self.spi.open(0,0)\n",
    "        self.CE_PIN = 18\n",
    "        self.IRQ_PIN = 22\n",
    "        \n",
    "        GPIO.setmode(GPIO.BOARD)\n",
    "        GPIO.setup(self.CE_PIN, GPIO.OUT)\n",
    "        GPIO.setup(self.IRQ_PIN, GPIO.IN)\n",
    "\n",
    "   #             # if data exists\n",
    "   #     if GPIO.input(self.IRQ_PIN) == 0:\n",
    "   #         kbk(self.IRQ_PIN)\n",
    "   #         \n",
    "   #     try:\n",
    "   #         GPIO.add_event_detect(self.IRQ_PIN, GPIO.FALLING, callback = kbk)\n",
    "   #     except:\n",
    "   #         GPIO.remove_event_detect(self.IRQ_PIN)\n",
    "   #         GPIO.add_event_detect(self.IRQ_PIN, GPIO.FALLING, callback = kbk)\n",
    "\n",
    "            \n",
    "    def read_register(self, reg, length = 1):\n",
    "        dumb = [0xff for x in (range(length + 1))]\n",
    "        dumb.insert(0,reg)\n",
    "        tmp = self.spi.xfer2(dumb);\n",
    "        return tmp[1:-1]\n",
    "    \n",
    "    def write_register(self, reg, val):\n",
    "        dumb = [0x20|reg]\n",
    "        try:\n",
    "            dumb = dumb + val\n",
    "        except:\n",
    "            dumb = dumb + [val]\n",
    "            \n",
    "        self.spi.xfer2(dumb)\n",
    "        \n",
    "    def modify_bit (self, reg, bit_pos, toval):\n",
    "        #only works for 1byte reg\n",
    "        origin = self.read_register(reg)[0]\n",
    "        origin = origin & ~(1 << bit_pos)\n",
    "        new = origin | (toval << bit_pos)\n",
    "        \n",
    "        self.write_register(reg, new)\n",
    "        return origin\n",
    "    \n",
    "    def irq_callback(self,ch):\n",
    "       \n",
    "        self.flush_rx()\n",
    "        self.clear_status()\n",
    "        \n",
    "        \n",
    "    def read_data(self,length=0):\n",
    "        dumb = [0xff for x in (range(length + 1))]\n",
    "        dumb.insert(0,0b01100001)\n",
    "        tmp = self.spi.xfer2(dumb);\n",
    "        return tmp[1:-1]\n",
    "        \n",
    "    def make_rx(self):\n",
    "        \n",
    "        radio.write_register(0x00,0x0B)\n",
    "        radio.write_register(0x01,0x00)\n",
    "        radio.write_register(0x02,0x03)\n",
    "        radio.write_register(0x03,0x03)\n",
    "        radio.write_register(0x04,0x03)\n",
    "        radio.write_register(0x05,0x02)\n",
    "        radio.write_register(0x06,0b1111)\n",
    "\n",
    "        radio.write_register(0x09,0x00)\n",
    "        radio.write_register(0x11,32)\n",
    "        \n",
    "    def make_tx(self):\n",
    "        radio.write_register(0x00,0x0A)\n",
    "        radio.write_register(0x01,0x00)\n",
    "        radio.write_register(0x02,0x03)\n",
    "        radio.write_register(0x03,0x03)\n",
    "        radio.write_register(0x04,0x03)\n",
    "        radio.write_register(0x05,0x02)\n",
    "        radio.write_register(0x06,0x0F)\n",
    "\n",
    "        radio.write_register(0x08,0x00)\n",
    "        radio.write_register(0x09,0x00)\n",
    "        radio.write_register(0x11,0x00)\n",
    "        #tx conf\n",
    "    def readall(self):\n",
    "        for i in (range(0x00,0x0A) + range(0x11,0x18)):\n",
    "            reg = self.read_register(i)\n",
    "\n",
    "            print hex(i) + \":\" + format(reg[0],\"0b\") + \" | \" + format(reg[0], \"#04x\")\n",
    "    def flip_lowhigh(self):\n",
    "        GPIO.output(self.CE_PIN,0)\n",
    "        GPIO.output(self.CE_PIN,1)\n",
    "    \n",
    "    def read_data(self,length=32):\n",
    "        data = self.spi.xfer([0b01100001] + [0xff for i in range (length)])\n",
    "        return data[1:length]\n",
    "    \n",
    "    def clear_status(self):        \n",
    "        self.spi.xfer([0x20|0x07, 0xff])\n",
    "        \n",
    "    def flush_rx(self):\n",
    "        self.spi.xfer([0b11100010])\n",
    "        \n",
    "    def __del__(self):\n",
    "        self.spi.close()\n",
    "        GPIO.remove_event_detect(self.IRQ_PIN)\n",
    "        \n",
    "        "
   ]
  },
  {
   "cell_type": "code",
   "execution_count": 22,
   "metadata": {
    "collapsed": false
   },
   "outputs": [],
   "source": [
    "radio = nrf24l01()\n"
   ]
  },
  {
   "cell_type": "code",
   "execution_count": null,
   "metadata": {
    "collapsed": false
   },
   "outputs": [],
   "source": [
    "radio.flush_rx()\n",
    "radio.clear_status()\n",
    "print GPIO.input(22)\n",
    "radio.readall()"
   ]
  },
  {
   "cell_type": "code",
   "execution_count": null,
   "metadata": {
    "collapsed": false
   },
   "outputs": [],
   "source": [
    "while(1):\n",
    "    if(GPIO.input(radio.IRQ_PIN))==0:\n",
    "        data= radio.read_data()\n",
    "        radio.flush_rx()\n",
    "        radio.clear_status()\n",
    "        data = data[0:4]\n",
    "        \n",
    "        i = data[0] | (data[1] <<8) | (data[2] <<16) | (data[3] <<24)\n",
    "        \n",
    "        \n",
    "        thermocouple_temperature = ((i>>18) & 0x1fff)/4.0 * (-1) ** (i>>31 & 0x01)\n",
    "        room_temp=((i>>4) & 0x7ff)/16.0 * (-1) ** (i>>15 & 0x01)\n",
    "        \n",
    "        payload = {\"temp1\":room_temp, \"temp2\":thermocouple_temperature}\n",
    "        print \"Recv\"\n",
    "        lastreq = req.get(\"https://script.google.com/macros/s/AKfycbzw4pMRsCS2pHyIZ_8YIDmJJmKIBy0koD3ztY0H1Gkt1duDzMQ/exec\",params=payload)"
   ]
  },
  {
   "cell_type": "code",
   "execution_count": 23,
   "metadata": {
    "collapsed": false
   },
   "outputs": [
    {
     "data": {
      "text/plain": [
       "1"
      ]
     },
     "execution_count": 23,
     "metadata": {},
     "output_type": "execute_result"
    }
   ],
   "source": [
    "GPIO.input(22)"
   ]
  },
  {
   "cell_type": "code",
   "execution_count": 25,
   "metadata": {
    "collapsed": false
   },
   "outputs": [
    {
     "name": "stdout",
     "output_type": "stream",
     "text": [
      "0x0:1011 | 0x0b\n",
      "0x1:0 | 0x00\n",
      "0x2:11 | 0x03\n",
      "0x3:11 | 0x03\n",
      "0x4:11 | 0x03\n",
      "0x5:10 | 0x02\n",
      "0x6:1111 | 0x0f\n",
      "0x7:1000000 | 0x40\n",
      "0x8:0 | 0x00\n",
      "0x9:1 | 0x01\n",
      "0x11:100000 | 0x20\n",
      "0x12:0 | 0x00\n",
      "0x13:0 | 0x00\n",
      "0x14:0 | 0x00\n",
      "0x15:0 | 0x00\n",
      "0x16:0 | 0x00\n",
      "0x17:10010 | 0x12\n"
     ]
    }
   ],
   "source": [
    "radio.flip_lowhigh()\n",
    "radio.readall()"
   ]
  },
  {
   "cell_type": "code",
   "execution_count": null,
   "metadata": {
    "collapsed": true
   },
   "outputs": [],
   "source": []
  }
 ],
 "metadata": {
  "kernelspec": {
   "display_name": "Python 2",
   "language": "python",
   "name": "python2"
  },
  "language_info": {
   "codemirror_mode": {
    "name": "ipython",
    "version": 2
   },
   "file_extension": ".py",
   "mimetype": "text/x-python",
   "name": "python",
   "nbconvert_exporter": "python",
   "pygments_lexer": "ipython2",
   "version": "2.7.9"
  }
 },
 "nbformat": 4,
 "nbformat_minor": 0
}
